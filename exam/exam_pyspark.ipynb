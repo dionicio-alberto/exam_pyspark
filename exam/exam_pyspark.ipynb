{
 "cells": [
  {
   "cell_type": "markdown",
   "id": "4bd1465e-b9f5-4c95-9ba7-1cf792859b5e",
   "metadata": {},
   "source": [
    "### En este notebook encontrarás el examen de desarrollo en pySpark, respira profundo y manos a la obra. Si te bloqueas puedes salir y respirar aire fresco, realiza alguna otra actividad y retoma el examen en cuanto puedas. Mucho éxito."
   ]
  },
  {
   "cell_type": "markdown",
   "id": "3f442a27-a226-491c-857a-f52abfb1fa33",
   "metadata": {},
   "source": [
    "#### Ejecutamos requerimientos"
   ]
  },
  {
   "cell_type": "code",
   "execution_count": null,
   "id": "02fd119c-7ff9-4cfe-a1eb-39c4c7c05bdf",
   "metadata": {},
   "outputs": [],
   "source": [
    "%run ../requirements/requirements.py"
   ]
  },
  {
   "cell_type": "code",
   "execution_count": null,
   "id": "0906fe6f-8e5f-40b0-a19d-36ad0108815e",
   "metadata": {},
   "outputs": [],
   "source": [
    "from IPython.core.display import HTML\n",
    "import pyspark.sql.functions as f\n",
    "import pyspark.sql.types as t\n",
    "from pyspark.sql import Window\n",
    "\n",
    "display(HTML(\"<style>pre { white-space: pre !important; }</style>\"))"
   ]
  },
  {
   "cell_type": "code",
   "execution_count": null,
   "id": "0dde4b64-c916-4036-81d7-c303bcb40010",
   "metadata": {},
   "outputs": [],
   "source": [
    "spark"
   ]
  },
  {
   "cell_type": "markdown",
   "id": "7874f554-12e3-4d5e-8411-95637a791332",
   "metadata": {},
   "source": [
    "#### Lectura de tablas"
   ]
  },
  {
   "cell_type": "code",
   "execution_count": null,
   "id": "516e50fe-305b-4a7e-91c0-d182688f3df5",
   "metadata": {},
   "outputs": [],
   "source": [
    "AIRLINES_DF = spark.read.parquet(\"../resources/data/exam/parquet/airlines\")\n",
    "AIRPORTS_DF = spark.read.parquet(\"../resources/data/exam/parquet/airports\")\n",
    "FLIGHTS_DF = spark.read.parquet(\"../resources/data/exam/parquet/flights\")"
   ]
  },
  {
   "cell_type": "markdown",
   "id": "13580ee8-bf5e-40eb-ae1a-5c395dde3adb",
   "metadata": {},
   "source": [
    "#### Transformaciones Narrow"
   ]
  },
  {
   "cell_type": "markdown",
   "id": "1749add1-2b70-4154-9ddc-9964509e548d",
   "metadata": {},
   "source": [
    "##### De acuerdo a la tabla FLIGHTS_DF el cliente ha solicitado generar algunas columnas que aportan mucho valor. Resuelve las siguientes reglas de negocio, apoyate de los ejemplos mostrados."
   ]
  },
  {
   "cell_type": "markdown",
   "id": "736893f1-7580-4cb5-901c-32581ee5187a",
   "metadata": {},
   "source": [
    "1. Generar una columna llamada `DATE_FLIGHT_TRIP` (fecha del vuelo) la cual contendrá la concatenación de las columnas `YEAR`, `MONTH` y `DAY`.\n",
    "    El formato de esta columna resultante será: `yyyy-MM-dd` y el tipo de dato será **DateType**.\n",
    "    ##### Ejemplo:\n",
    "    ```\n",
    "            +----+-----+---+----------------+\n",
    "            |YEAR|MONTH|DAY|DATE_FLIGHT_TRIP|\n",
    "            +----+-----+---+----------------+\n",
    "            |2015|   10|  9|      2015-10-09|\n",
    "            |2015|    1|  4|      2015-01-04|\n",
    "            |2015|    2| 26|      2015-02-26|\n",
    "            +----+-----+---+----------------+\n",
    "    ```\n",
    "2. Genera una columna de tipo **IntegerType** llamada `DAY_OF_WEEK` (día de la semana del vuelo) la cual contendrá el día de la semana del campo `DATE_FLIGHT_TRIP`, esta columna contendrá valores numéricos del 1 al 7 de acuerdo al siguiente criterio:\n",
    "    ```\n",
    "            +-----+--------------------------------------+\n",
    "            |valor| criterio                             |\n",
    "            +-----|--------------------------------------+\n",
    "            | 1   | si el día de la semana fue lunes     |\n",
    "            | 2   | si el día de la semana fue martes    |\n",
    "            | 3   | si el día de la semana fue miercoles |\n",
    "            | 4   | si el día de la semana fue jueves    |\n",
    "            | 5   | si el día de la semana fue viernes   |\n",
    "            | 6   | si el día de la semana fue sabado    |\n",
    "            | 7   | si el día de la semana fue domingo   |\n",
    "            +-----+--------------------------------------+\n",
    "    ```\n",
    "    ##### Ejemplo:\n",
    "    ```\n",
    "            +----------------+-----------+\n",
    "            |DATE_FLIGHT_TRIP|DAY_OF_WEEK|\n",
    "            +----------------+-----------+\n",
    "            |      2015-09-06|          7|\n",
    "            |      2015-11-24|          2|\n",
    "            |      2015-11-26|          4|\n",
    "            +----------------+-----------+\n",
    "    ```\n",
    "3. Convierte la columna `SCHEDULED_DEPARTURE` (hora de salida prevista) la cual contiene la hora y minutos (`HHmm`) a una representación con el formato `yyyy-MM-dd HH:mm:ss` y de tipo **TimestampType**, la fecha se obtendrá a partir de la columna `DATE_FLIGHT_TRIP` y se colocarán los segundos en `00`.\n",
    "   NOTA: Cuando el valor original de la columna `SCHEDULED_DEPARTURE` sea `2400`, se deberá registrar como hora `00` y minuto `00`.\n",
    "    ##### Ejemplo:\n",
    "    ```\n",
    "            +----------------+------------------------------+---------------------------+\n",
    "            |DATE_FLIGHT_TRIP|SCHEDULED_DEPARTURE (anterior)|SCHEDULED_DEPARTURE (nuevo)|\n",
    "            +----------------+------------------------------+---------------------------+\n",
    "            |      2015-10-28|                          1005|        2015-10-28 10:05:00|\n",
    "            |      2015-08-29|                          1000|        2015-08-29 10:00:00|\n",
    "            |      2015-06-21|                          1350|        2015-06-21 13:50:00|\n",
    "            +----------------+------------------------------+---------------------------+\n",
    "    ```\n",
    "4. Genera la columna `SCHEDULED_ARRIVAL` (fecha de llegada prevista) con el formato `yyyy-MM-dd HH:mm:ss` y de tipo **TimestampType**, la fecha se obtendrá de la siguiente manera: `SCHEDULED_ARRIVAL = SCHEDULED_DEPARTURE + SCHEDULED_TIME + (DIFF_TIME_ZONE * 60)`. Esto es a la fecha dada en `SCHEDULED_DEPARTURE` se le suma la cantidad de MINUTOS dados por `SCHEDULED_TIME + (DIFF_TIME_ZONE * 60)`\n",
    "    ##### Ejemplo:\n",
    "    ```\n",
    "            +-------------------+--------------+--------------+-------------------+\n",
    "            |SCHEDULED_DEPARTURE|SCHEDULED_TIME|DIFF_TIME_ZONE|  SCHEDULED_ARRIVAL|\n",
    "            +-------------------+--------------+--------------+-------------------+\n",
    "            |2015-01-01 06:55:00|           175|             1|2015-01-01 10:50:00|\n",
    "            |2015-01-01 08:45:00|           101|             1|2015-01-01 11:26:00|\n",
    "            |2015-01-01 13:15:00|           152|            -1|2015-01-01 14:47:00|\n",
    "            +-------------------+--------------+--------------+-------------------+\n",
    "    ```\n",
    "5. Genera la columna `DEPARTURE_TIME` (tiempo de salida del vuelo) con formato lógico `yyyy-MM-dd HH:mm:ss` y de tipo **TimestampType**, esta columna se calcula de la siguiente manera:\n",
    "    * Si `CANCELLED == 1` entonces `DEPARTURE_TIME` es NULL\n",
    "    * En otro caso `DEPARTURE_TIME` se calcula sumando la cantidad de MINUTOS representados por `DEPARTURE_DELAY` a la columna `SCHEDULED_DEPARTURE`: `DEPARTURE_TIME = SCHEDULED_DEPARTURE + DEPARTURE_DELAY`\n",
    "    ##### Ejemplo:\n",
    "    ```\n",
    "            +---------+-------------------+---------------+-------------------+\n",
    "            |CANCELLED|SCHEDULED_DEPARTURE|DEPARTURE_DELAY|     DEPARTURE_TIME|\n",
    "            +---------+-------------------+---------------+-------------------+\n",
    "            |        1|2015-01-27 09:00:00|           null|               null|\n",
    "            |        0|2015-09-11 08:40:00|             21|2015-09-11 09:01:00|\n",
    "            |        0|2015-04-29 07:00:00|             -3|2015-04-29 06:57:00|\n",
    "            |        0|2015-08-28 07:00:00|              1|2015-08-28 07:01:00|\n",
    "            +---------+-------------------+---------------+-------------------+\n",
    "    ```\n",
    "6. Genera la columna `WHEELS_OFF` (el momento en que las ruedas del avión dejan el suelo) en el formato lógico `yyyy-MM-dd HH:mm:ss` y de tipo **TimestampType**, esta columna se genera de la siguiente manera:\n",
    "    * Si `CANCELLED == 1` entonces `WHEELS_OFF` es NULL\n",
    "    * En otro caso `WHEELS_OFF` se obtendrá a partir de la suma de MINUTOS de `TAXI_OUT` a la columna `DEPARTURE_TIME`: `WHEELS_OFF = DEPARTURE_TIME + TAXI_OUT`\n",
    "    ##### Ejemplo:\n",
    "    ```\n",
    "            +---------+-------------------+--------+-------------------+\n",
    "            |CANCELLED|     DEPARTURE_TIME|TAXI_OUT|         WHEELS_OFF|\n",
    "            +---------+-------------------+--------+-------------------+\n",
    "            |        1|               null|    null|               null|\n",
    "            |        0|2015-09-11 09:01:00|       8|2015-09-11 09:09:00|\n",
    "            |        0|2015-05-08 14:43:00|      12|2015-05-08 14:55:00|\n",
    "            +---------+-------------------+--------+-------------------+\n",
    "    ```\n",
    "7. Genera la columna `ARRIVAL_TIME` (tiempo de llegada con formato lógico `yyyy-MM-dd HH:mm:ss` y de tipo **TimestampType)**, esta columna se calcula de la siguiente manera:\n",
    "    * Si `DIVERTED == 1` entonces `ARRIVAL_TIME` es NULL\n",
    "    * En otro caso `ARRIVAL_TIME` se calcula sumando la cantidad de MINUTOS de `ARRIVAL_DELAY` a la columna `SCHEDULED_ARRIVAL`: `ARRIVAL_TIME = SCHEDULED_ARRIVAL + ARRIVAL_DELAY`\n",
    "    ##### Ejemplo:\n",
    "    ```\n",
    "            +--------+-------------------+-------------+-------------------+\n",
    "            |DIVERTED|  SCHEDULED_ARRIVAL|ARRIVAL_DELAY|       ARRIVAL_TIME|\n",
    "            +--------+-------------------+-------------+-------------------+\n",
    "            |       0|2015-09-11 09:55:00|           45|2015-09-11 10:40:00|\n",
    "            |       0|2015-04-29 08:05:00|          -11|2015-04-29 07:54:00|\n",
    "            |       1|2015-05-27 08:05:00|         null|               null|\n",
    "            +--------+-------------------+-------------+-------------------+\n",
    "    ```\n",
    "8. Genera la columna `WHEELS_ON` (el momento en que las ruedas del avión tocan el suelo) con formato lógico `yyyy-MM-dd HH:mm:ss` y de tipo **TimestampType**, esta columna se actualiza de la siguiente manera:\n",
    "    * Si `DIVERTED == 1` entonces `WHEELS_ON` es NULL\n",
    "    * En otro caso `WHEELS_ON` se obtendrá a partir de la resta de MINUTOS de `TAXI_IN` a la columna `ARRIVAL_TIME`: `WHEELS_ON = ARRIVAL_TIME - TAXI_IN`\n",
    "    ##### Ejemplo:\n",
    "    ```\n",
    "            +--------+-------------------+-------+-------------------+\n",
    "            |DIVERTED|       ARRIVAL_TIME|TAXI_IN|          WHEELS_ON|\n",
    "            +--------+-------------------+-------+-------------------+\n",
    "            |       1|               null|   null|               null|\n",
    "            |       0|2015-09-11 10:40:00|     26|2015-09-11 10:14:00|\n",
    "            |       0|2015-08-28 07:58:00|      7|2015-08-28 07:51:00|\n",
    "            +--------+-------------------+-------+-------------------+\n",
    "    ```\n",
    "9. Genera la columna `AIR_TIME` de tipo **IntegerType**, la cual contiene la duración en minutos del tiempo en vuelo, la operación a realizar es la siguiente: `TRAVEL_TIME - DIFF_TIME_ZONE*60`, donde `TRAVEL_TIME` representa la diferencia de tiempo entre `WHEELS_ON` y `WHEELS_OFF`\n",
    "    ##### Ejemplo:\n",
    "    ```\n",
    "            +-------------------+-------------------+--------------+--------+\n",
    "            |          WHEELS_ON|         WHEELS_OFF|DIFF_TIME_ZONE|AIR_TIME|\n",
    "            +-------------------+-------------------+--------------+--------+\n",
    "            |2015-09-11 10:14:00|2015-09-11 09:09:00|            -2|     185|\n",
    "            |2015-04-29 07:50:00|2015-04-29 07:06:00|             0|      44|\n",
    "            |2015-10-06 16:12:00|2015-10-06 08:23:00|             3|     289|\n",
    "            +-------------------+-------------------+--------------+--------+\n",
    "    ```\n",
    "10. Genera la columna `ELAPSED_TIME` de tipo **IntegerType**, la cual contiene el tiempo transcurrido entre la puerta del aeropuerto origen y la puerta del aeropuerto destino, esta columna se obtiene de calcular la suma de las columnas: `AIR_TIME + TAXI_IN + TAXI_OUT`\n",
    "    ##### Ejemplo:\n",
    "    ```\n",
    "            +--------+-------+--------+------------+\n",
    "            |AIR_TIME|TAXI_IN|TAXI_OUT|ELAPSED_TIME|\n",
    "            +--------+-------+--------+------------+\n",
    "            |     351|      6|      13|         370|\n",
    "            |     306|      4|      19|         329|\n",
    "            +--------+-------+--------+------------+\n",
    "    ```\n",
    "11. Reemplaza los valores NULL de las columnas `WEATHER_DELAY`, `LATE_AIRCRAFT_DELAY`, `AIRLINE_DELAY`, `SECURITY_DELAY`, `AIR_SYSTEM_DELAY`, `ARRIVAL_DELAY`, `DEPARTURE_DELAY` por el valor numérico 0\n",
    "\n",
    "Almacena la salida de las 11 reglas de negocio en la variable **narrow_flights_df**, asegurate de que tu tabla tenga la siguiente estructura:\n",
    "```\n",
    "|-- ID: string\n",
    "|-- DATE_FLIGHT_TRIP: date\n",
    "|-- DAY_OF_WEEK: integer\n",
    "|-- ORIGIN_AIRPORT: string\n",
    "|-- DESTINATION_AIRPORT: string\n",
    "|-- DISTANCE: double\n",
    "|-- AIRLINE: string\n",
    "|-- SCHEDULED_DEPARTURE: timestamp\n",
    "|-- SCHEDULED_ARRIVAL: timestamp\n",
    "|-- SCHEDULED_TIME: integer\n",
    "|-- DIFF_TIME_ZONE: integer\n",
    "|-- CANCELLED: integer\n",
    "|-- CANCELLATION_REASON: string\n",
    "|-- DIVERTED: integer\n",
    "|-- DEPARTURE_TIME: timestamp\n",
    "|-- WHEELS_OFF: timestamp\n",
    "|-- AIR_TIME: integer\n",
    "|-- WHEELS_ON: timestamp\n",
    "|-- ARRIVAL_TIME: timestamp\n",
    "|-- ELAPSED_TIME: integer\n",
    "|-- WEATHER_DELAY: integer\n",
    "|-- LATE_AIRCRAFT_DELAY: integer\n",
    "|-- AIRLINE_DELAY: integer\n",
    "|-- SECURITY_DELAY: integer\n",
    "|-- AIR_SYSTEM_DELAY: integer\n",
    "|-- ARRIVAL_DELAY: integer\n",
    "|-- DEPARTURE_DELAY: integer\n",
    "```"
   ]
  },
  {
   "cell_type": "code",
   "execution_count": null,
   "id": "f68238fb-8f9d-4dcd-953b-4ac2d1de284b",
   "metadata": {},
   "outputs": [],
   "source": [
    "# -------------------------------------------------------------------------------------------------------------- #\n",
    "# ----------------------------------- TUS TRANSFORMACIONES VAN EN ESTA CELDA ----------------------------------- #\n",
    "# -------------------------- Almacena tu resultado en la variable \"narrow_flights_df\" -------------------------- #\n",
    "# -------------------------------------------------------------------------------------------------------------- #\n",
    "\n",
    "narrow_flights_df = FLIGHTS_DF # Agrega tus transformaciones"
   ]
  },
  {
   "cell_type": "code",
   "execution_count": null,
   "id": "0e8d6099-c3e6-47aa-8d3b-cf907fd372c2",
   "metadata": {},
   "outputs": [],
   "source": [
    "# ------------------------------------------------------------------------------------------------------------ #\n",
    "# ------------------------------------------------ VALIDACIÓN ------------------------------------------------ #\n",
    "# ------------------------------------------------------------------------------------------------------------ #\n",
    "# -------------------------------------------- NO MODIFICAR CELDA -------------------------------------------- #\n",
    "# ------------------------------------------------------------------------------------------------------------ #\n",
    "\n",
    "validation_narrow_transformations(narrow_flights_df)"
   ]
  },
  {
   "cell_type": "markdown",
   "id": "5feaf053-f9d2-47e8-ad7d-e59c1f655c30",
   "metadata": {},
   "source": [
    "#### Transformaciones Wide"
   ]
  },
  {
   "cell_type": "markdown",
   "id": "6898ce2b-2960-4ca0-9353-68539ea11531",
   "metadata": {},
   "source": [
    "##### Utilizando el resultado obtenido en narrow_flights_df el cliente ha solicitado agregar algunas columnas adicionales y eliminar algunos registros que considera innecesarios. El resultado de las transformaciones se almacenará en la variable wide_flights_df"
   ]
  },
  {
   "cell_type": "markdown",
   "id": "d5a84d44-646a-49a4-86ab-e19053e68a05",
   "metadata": {},
   "source": [
    "1. Agrega una columna llamada `TOP_AIRLINE_ARRIVAL` de tipo **IntegerType** donde se colocará el valor top (RANK) de cada aerolinea con mayor porcentaje de llegadas a tiempo en sus vuelos, esta columna se obtendrá de la siguiente forma:\n",
    "    1. Obtener el total de vuelos por cada aerolinea.\n",
    "    2. Obtener el total de vuelos no desviados `DIVERTED = 0` y con un retraso menor o igual a cero `ARRIVAL_DELAY <= 0` por cada aerolinea.\n",
    "    3. Obtener el porcentaje de llegadas a tiempo, esto es divide el resultado del paso 2 entre el resultado del paso 1.\n",
    "    4. Genera la columna `TOP_AIRLINE_ARRIVAL` utilizando la función RANK sobre el resultado del paso 3, donde el valor 1 de la función RANK corresponde al porcentaje más alto (mayor índice de llegadas a tiempo).\n",
    "    5. Agrega la columna `TOP_AIRLINE_ARRIVAL` al dataframe original narrow_flights_df\n",
    "        ##### Salida esperada para la columna TOP_AIRLINE_ARRIVAL\n",
    "        ```\n",
    "        +-------+-------+------+------------------+-------------------+\n",
    "        |AIRLINE| step_1|step_2|            step_3|TOP_AIRLINE_ARRIVAL|\n",
    "        +-------+-------+------+------------------+-------------------+\n",
    "        |     DL| 875881|623259|0.7115795410563763|                  1|\n",
    "        |     AS| 172521|115155|0.6674839584746205|                  2|\n",
    "        |     AA| 725984|471663|0.6496878719090228|                  3|\n",
    "        |     MQ| 294632|190311|0.6459278014608053|                  4|\n",
    "        |     UA| 515723|328108|0.6362097482563314|                  5|\n",
    "        |     WN|1261855|787679|0.6242230684191131|                  6|\n",
    "        |     EV| 571977|356766|0.6237418637462695|                  7|\n",
    "        |     OO| 588352|364339|0.6192534401174807|                  8|\n",
    "        |     B6| 267048|164320|0.6153200922680567|                  9|\n",
    "        |     US| 198715|122005|0.6139697556802456|                 10|\n",
    "        |     VX|  61901| 37600|0.6074215279236199|                 11|\n",
    "        |     HA|  76272| 46033|0.6035373400461507|                 12|\n",
    "        |     F9|  90824| 49446|0.5444155729763058|                 13|\n",
    "        |     NK| 117372| 60304|  0.51378522986743|                 14|\n",
    "        +-------+-------+------+------------------+-------------------+\n",
    "        ```\n",
    "2. Elimina los registros donde las columnas `ORIGIN_AIRPORT` o `DESTINATION_AIRPORT` NO contengan algún valor valido registrado en el dataframe **AIRPORTS_DF** en la columna `AIRPORT_CODE`.\n",
    "3. Agrega la columna `FLIGHT_NUMBER` de tipo **StringType** donde esta columna se generará a través de la concatenación de: `AIRLINE-ORIGIN_AIRPORT-DESTINATION_AIRPORT-FLIGHT_POSITION-REPEATED_ID`.\n",
    "Las columnas `FLIGHT_POSITION` y `REPEATED_ID` se generan de la siguiente forma:\n",
    "    - `FLIGHT_POSITION` se genera a traves de la función DENSE_RANK particionando por `DATE_FLIGHT_TRIP`, `ORIGIN_AIRPORT`, `DESTINATION_AIRPORT`, `AIRLINE` y ordenando de forma ascendente a través de la columna `SCHEDULED_DEPARTURE`\n",
    "    - `REPEATED_ID` se genera a traves de la función ROW_NUMBER particionando por `DATE_FLIGHT_TRIP`, `ORIGIN_AIRPORT`, `DESTINATION_AIRPORT`, `AIRLINE`, `SCHEDULED_DEPARTURE` y ordenando de forma ascendente a través de la columna `SCHEDULED_DEPARTURE`. Los valores generados con ROW_NUMBER deberán ser modificados de acuerdo al siguiente diccionario: `{\"1\":\"A\",\"2\":\"B\",\"3\":\"C\"}`\n",
    "      \n",
    "        ##### Salida esperada para la columna FLIGHT_NUMBER\n",
    "        ```\n",
    "        +----------------+-------+--------------+-------------------+-------------------+---------------+\n",
    "        |DATE_FLIGHT_TRIP|AIRLINE|ORIGIN_AIRPORT|DESTINATION_AIRPORT|SCHEDULED_DEPARTURE|  FLIGHT_NUMBER|\n",
    "        +----------------+-------+--------------+-------------------+-------------------+---------------+\n",
    "        |      2015-01-01|     OO|           LAX|                SAN|2015-01-01 07:41:00| OO-LAX-SAN-1-A|\n",
    "        |      2015-01-01|     OO|           LAX|                SAN|2015-01-01 08:00:00| OO-LAX-SAN-2-A|\n",
    "        |      2015-01-01|     OO|           LAX|                SAN|2015-01-01 09:40:00| OO-LAX-SAN-3-A|\n",
    "        |      2015-01-01|     OO|           LAX|                SAN|2015-01-01 10:20:00| OO-LAX-SAN-4-A|\n",
    "        |      2015-01-01|     OO|           LAX|                SAN|2015-01-01 10:40:00| OO-LAX-SAN-5-A|\n",
    "        |      2015-01-01|     OO|           LAX|                SAN|2015-01-01 11:35:00| OO-LAX-SAN-6-A|\n",
    "        |      2015-01-01|     OO|           LAX|                SAN|2015-01-01 11:40:00| OO-LAX-SAN-7-A|\n",
    "        |      2015-01-01|     OO|           LAX|                SAN|2015-01-01 12:55:00| OO-LAX-SAN-8-A|\n",
    "        |      2015-01-01|     OO|           LAX|                SAN|2015-01-01 13:00:00| OO-LAX-SAN-9-A|\n",
    "        |      2015-01-01|     OO|           LAX|                SAN|2015-01-01 14:19:00|OO-LAX-SAN-10-A|\n",
    "        |      2015-01-01|     OO|           LAX|                SAN|2015-01-01 14:25:00|OO-LAX-SAN-11-A|\n",
    "        |      2015-01-01|     OO|           LAX|                SAN|2015-01-01 15:35:00|OO-LAX-SAN-12-A|\n",
    "        |      2015-01-01|     OO|           LAX|                SAN|2015-01-01 16:05:00|OO-LAX-SAN-13-A|\n",
    "        |      2015-01-01|     OO|           LAX|                SAN|2015-01-01 17:05:00|OO-LAX-SAN-14-A|\n",
    "        |      2015-01-01|     OO|           LAX|                SAN|2015-01-01 17:05:00|OO-LAX-SAN-14-B|\n",
    "        |      2015-01-01|     OO|           LAX|                SAN|2015-01-01 18:20:00|OO-LAX-SAN-15-A|\n",
    "        |      2015-01-01|     OO|           LAX|                SAN|2015-01-01 19:29:00|OO-LAX-SAN-16-A|\n",
    "        |      2015-01-01|     OO|           LAX|                SAN|2015-01-01 21:00:00|OO-LAX-SAN-17-A|\n",
    "        |      2015-01-01|     OO|           LAX|                SAN|2015-01-01 23:10:00|OO-LAX-SAN-18-A|\n",
    "        +----------------+-------+--------------+-------------------+-------------------+---------------+\n",
    "        ```\n",
    "Almacena la salida de tus transformaciones en la variable **wide_flights_df**, asegurate de que tu tabla contenga las columnas adicionales:\n",
    "```\n",
    "|-- TOP_AIRLINE_ARRIVAL: integer\n",
    "|-- FLIGHT_NUMBER: string\n",
    "```"
   ]
  },
  {
   "cell_type": "code",
   "execution_count": null,
   "id": "0628eb52-b555-4b27-baee-89222b63ef40",
   "metadata": {
    "scrolled": true
   },
   "outputs": [],
   "source": [
    "# ------------------------------------------------------------------------------------------------------------ #\n",
    "# ---------------------------------- TUS TRANSFORMACIONES VAN EN ESTA CELDA ---------------------------------- #\n",
    "# -------------------------- Almacena tu resultado en la variable \"wide_flights_df\" -------------------------- #\n",
    "# ------------------------------------------------------------------------------------------------------------ #\n",
    "\n",
    "wide_flights_df = narrow_flights_df # Agrega tus transformaciones"
   ]
  },
  {
   "cell_type": "code",
   "execution_count": null,
   "id": "ba4308d7-dee2-401a-baf7-f63e027adfe6",
   "metadata": {},
   "outputs": [],
   "source": [
    "# ------------------------------------------------------------------------------------------------------------ #\n",
    "# ------------------------------------------------ VALIDACIÓN ------------------------------------------------ #\n",
    "# ------------------------------------------------------------------------------------------------------------ #\n",
    "# -------------------------------------------- NO MODIFICAR CELDA -------------------------------------------- #\n",
    "# ------------------------------------------------------------------------------------------------------------ #\n",
    "\n",
    "validation_wide_transformations(wide_flights_df)"
   ]
  },
  {
   "cell_type": "markdown",
   "id": "ce01a2a2-2461-403f-a151-63c65c5a7434",
   "metadata": {},
   "source": [
    "#### Consultas adicionales"
   ]
  },
  {
   "cell_type": "markdown",
   "id": "0ab776b3-d313-41e7-a0ce-d2a526fd1964",
   "metadata": {},
   "source": [
    "##### Utilizando el resultado obtenido en wide_flights_df el cliente ha solicitado realizar algunas consultas. Resuelve cada consulta y almacenalo en la variable que se te indica."
   ]
  },
  {
   "cell_type": "markdown",
   "id": "c89b55f9-e905-4904-9304-aefe4eb3059b",
   "metadata": {},
   "source": [
    "1. Cuales son las 3 aerolineas más eficientes en hora de llegada? El top 3 lo encuentras en la columna `TOP_AIRLINE_ARRIVAL`.\n",
    "\n",
    "    ##### Almacena tu resultado en la variable airlines_top_3_df.\n",
    "\n",
    "    ##### Salida esperada:\n",
    "```\n",
    "+-------+-------------------+----------------------+\n",
    "|AIRLINE|TOP_AIRLINE_ARRIVAL|AIRLINE_NAME          |\n",
    "+-------+-------------------+----------------------+\n",
    "|DL     |1                  |Delta Air Lines Inc.  |\n",
    "|AS     |2                  |Alaska Airlines Inc.  |\n",
    "|AA     |3                  |American Airlines Inc.|\n",
    "+-------+-------------------+----------------------+\n",
    "```"
   ]
  },
  {
   "cell_type": "code",
   "execution_count": null,
   "id": "b29ec550-2854-4f30-b95f-62730ca55707",
   "metadata": {},
   "outputs": [],
   "source": [
    "# ------------------------------------------------------------------------------------------------------------------ #\n",
    "# ------------------------------------- TUS TRANSFORMACIONES VAN EN ESTA CELDA ------------------------------------- #\n",
    "# ---------------------------- Almacena tu resultado en la variable \"airlines_top_3_df\" ---------------------------- #\n",
    "# ------------------------------------------------------------------------------------------------------------------ #\n",
    "\n",
    "airlines_top_3_df = wide_flights_df # Agrega tus transformaciones"
   ]
  },
  {
   "cell_type": "code",
   "execution_count": null,
   "id": "d4c1ccbc-7a98-4481-a61c-c5c99a5d5855",
   "metadata": {},
   "outputs": [],
   "source": [
    "# ------------------------------------------------------------------------------------------------------------ #\n",
    "# ------------------------------------------------ VALIDACIÓN ------------------------------------------------ #\n",
    "# ------------------------------------------------------------------------------------------------------------ #\n",
    "# -------------------------------------------- NO MODIFICAR CELDA -------------------------------------------- #\n",
    "# ------------------------------------------------------------------------------------------------------------ #\n",
    "\n",
    "validation_query_1(airlines_top_3_df)"
   ]
  },
  {
   "cell_type": "markdown",
   "id": "44a35077-2ded-4100-b0ea-94a42da7d064",
   "metadata": {},
   "source": [
    "2. Filtrando los registros que tengan retraso en salida (`DEPARTURE_DELAY`) mayor a 30 o retraso en llegada (`ARRIVAL_DELAY`) mayor a 30, para la fecha del vuelo (`DATE_FLIGHT_TRIP`) entre los días 2015-09-15 y 2015-12-15 y tomando únicamente las aerolineas (`AIRLINE`) DL, AS y AA. ¿Cuál es el valor promedio de las columnas `WEATHER_DELAY`, `LATE_AIRCRAFT_DELAY`, `AIRLINE_DELAY`, `SECURITY_DELAY` y `AIR_SYSTEM_DELAY`? Redondea tu resultado utilizando dos decimales.\n",
    "\n",
    "    ##### Almacena tu resultado en la variable airlines_avg_delay_df.\n",
    "\n",
    "    ##### Salida esperada:\n",
    "```\n",
    "+-------+-----------------+-----------------------+-----------------+------------------+--------------------+\n",
    "|AIRLINE|AVG_WEATHER_DELAY|AVG_LATE_AIRCRAFT_DELAY|AVG_AIRLINE_DELAY|AVG_SECURITY_DELAY|AVG_AIR_SYSTEM_DELAY|\n",
    "+-------+-----------------+-----------------------+-----------------+------------------+--------------------+\n",
    "|     AA|             4.18|                  25.34|            29.21|              0.28|               13.56|\n",
    "|     AS|             2.63|                   25.6|             23.0|              0.41|               14.48|\n",
    "|     DL|             3.27|                  19.69|            38.85|               0.1|               12.68|\n",
    "+-------+-----------------+-----------------------+-----------------+------------------+--------------------+\n",
    "```"
   ]
  },
  {
   "cell_type": "code",
   "execution_count": null,
   "id": "cc82eb79-1aa5-46a4-a066-4f83a6368805",
   "metadata": {},
   "outputs": [],
   "source": [
    "# ------------------------------------------------------------------------------------------------------------------ #\n",
    "# ------------------------------------- TUS TRANSFORMACIONES VAN EN ESTA CELDA ------------------------------------- #\n",
    "# -------------------------- Almacena tu resultado en la variable \"airlines_avg_delay_df\" -------------------------- #\n",
    "# ------------------------------------------------------------------------------------------------------------------ #\n",
    "\n",
    "airlines_avg_delay_df = wide_flights_df # Agrega tus transformaciones"
   ]
  },
  {
   "cell_type": "code",
   "execution_count": null,
   "id": "5a64f257-2801-466f-9133-8cead78c029c",
   "metadata": {},
   "outputs": [],
   "source": [
    "# ------------------------------------------------------------------------------------------------------------ #\n",
    "# ------------------------------------------------ VALIDACIÓN ------------------------------------------------ #\n",
    "# ------------------------------------------------------------------------------------------------------------ #\n",
    "# -------------------------------------------- NO MODIFICAR CELDA -------------------------------------------- #\n",
    "# ------------------------------------------------------------------------------------------------------------ #\n",
    "\n",
    "validation_query_2(airlines_avg_delay_df)"
   ]
  },
  {
   "cell_type": "markdown",
   "id": "825df947-5da9-4c0c-93d6-9e1606dc706e",
   "metadata": {},
   "source": [
    "3. Para los días Viernes, Sabado y Domingo (`DAY_OF_WEEK IN (5,6,7)`) y omitiendo vuelos cancelados (`CANCELLED == 0`), ¿Cuál es el TOP 5 de Aeropuertos que presentan mayor afluencia de salidas (`ORIGIN_AIRPORT`) y llegadas (`DESTINATION_AIRPORT`)? Agrega las columnas donde se indiquen las ciudades y la cantidad de salidas y llegadas por cada posición del TOP 5.\n",
    "\n",
    "    ##### Almacena tu resultado en la variable top_5_df.\n",
    "\n",
    "    ##### Salida esperada:\n",
    "```\n",
    "+-----------+---+--------------------+-----------------+---------------+--------------------+-----------------+-------------+\n",
    "|DAY_OF_WEEK|TOP|   DEPARTURE_AIRPORT|   DEPARTURE_CITY|DEPARTURE_COUNT|     ARRIVAL_AIRPORT|     ARRIVAL_CITY|ARRIVAL_COUNT|\n",
    "+-----------+---+--------------------+-----------------+---------------+--------------------+-----------------+-------------+\n",
    "|     Friday|  1|Hartsfield-Jackso...|          Atlanta|          50406|Hartsfield-Jackso...|          Atlanta|        50376|\n",
    "|     Friday|  2|Chicago O'Hare In...|          Chicago|          41198|Chicago O'Hare In...|          Chicago|        41127|\n",
    "|     Friday|  3|Dallas/Fort Worth...|Dallas-Fort Worth|          34024|Dallas/Fort Worth...|Dallas-Fort Worth|        34003|\n",
    "|     Friday|  4|Denver Internatio...|           Denver|          28393|Denver Internatio...|           Denver|        28349|\n",
    "|     Friday|  5|Los Angeles Inter...|      Los Angeles|          28078|Los Angeles Inter...|      Los Angeles|        28094|\n",
    "|   Saturday|  1|Hartsfield-Jackso...|          Atlanta|          40339|Hartsfield-Jackso...|          Atlanta|        40501|\n",
    "|   Saturday|  2|Chicago O'Hare In...|          Chicago|          32155|Chicago O'Hare In...|          Chicago|        32324|\n",
    "|   Saturday|  3|Dallas/Fort Worth...|Dallas-Fort Worth|          29126|Dallas/Fort Worth...|Dallas-Fort Worth|        29189|\n",
    "|   Saturday|  4|Los Angeles Inter...|      Los Angeles|          23865|Los Angeles Inter...|      Los Angeles|        23878|\n",
    "|   Saturday|  5|Denver Internatio...|           Denver|          23131|Denver Internatio...|           Denver|        23301|\n",
    "|     Sunday|  1|Hartsfield-Jackso...|          Atlanta|          49190|Hartsfield-Jackso...|          Atlanta|        49069|\n",
    "|     Sunday|  2|Chicago O'Hare In...|          Chicago|          38955|Chicago O'Hare In...|          Chicago|        38706|\n",
    "|     Sunday|  3|Dallas/Fort Worth...|Dallas-Fort Worth|          33042|Dallas/Fort Worth...|Dallas-Fort Worth|        32846|\n",
    "|     Sunday|  4|Denver Internatio...|           Denver|          27871|Denver Internatio...|           Denver|        27704|\n",
    "|     Sunday|  5|Los Angeles Inter...|      Los Angeles|          27404|Los Angeles Inter...|      Los Angeles|        27360|\n",
    "+-----------+---+--------------------+-----------------+---------------+--------------------+-----------------+-------------+\n",
    "```"
   ]
  },
  {
   "cell_type": "code",
   "execution_count": null,
   "id": "ab1acf2a-e087-4c56-a8aa-caa695cf03a7",
   "metadata": {},
   "outputs": [],
   "source": [
    "# --------------------------------------------------------------------------------------------------------- #\n",
    "# -------------------------------- TUS TRANSFORMACIONES VAN EN ESTA CELDA --------------------------------- #\n",
    "# ---------------------------- Almacena tu resultado en la variable \"top_5_df\" ---------------------------- #\n",
    "# --------------------------------------------------------------------------------------------------------- #\n",
    "\n",
    "top_5_df = wide_flights_df # Agrega tus transformaciones"
   ]
  },
  {
   "cell_type": "code",
   "execution_count": null,
   "id": "125e64bf-f750-4d92-a088-e8c37d4ef599",
   "metadata": {},
   "outputs": [],
   "source": [
    "# ------------------------------------------------------------------------------------------------------------ #\n",
    "# ------------------------------------------------ VALIDACIÓN ------------------------------------------------ #\n",
    "# ------------------------------------------------------------------------------------------------------------ #\n",
    "# -------------------------------------------- NO MODIFICAR CELDA -------------------------------------------- #\n",
    "# ------------------------------------------------------------------------------------------------------------ #\n",
    "\n",
    "validation_query_3(top_5_df)"
   ]
  },
  {
   "cell_type": "code",
   "execution_count": null,
   "id": "998266b4-fa4c-422f-9f1e-eaa909a9b3c8",
   "metadata": {},
   "outputs": [],
   "source": []
  }
 ],
 "metadata": {
  "kernelspec": {
   "display_name": "Python 3 (ipykernel)",
   "language": "python",
   "name": "python3"
  },
  "language_info": {
   "codemirror_mode": {
    "name": "ipython",
    "version": 3
   },
   "file_extension": ".py",
   "mimetype": "text/x-python",
   "name": "python",
   "nbconvert_exporter": "python",
   "pygments_lexer": "ipython3",
   "version": "3.9.13"
  }
 },
 "nbformat": 4,
 "nbformat_minor": 5
}
